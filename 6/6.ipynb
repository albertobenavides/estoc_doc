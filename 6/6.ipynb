{
 "metadata": {
  "language_info": {
   "codemirror_mode": {
    "name": "ipython",
    "version": 3
   },
   "file_extension": ".py",
   "mimetype": "text/x-python",
   "name": "python",
   "nbconvert_exporter": "python",
   "pygments_lexer": "ipython3",
   "version": 3
  },
  "orig_nbformat": 2
 },
 "nbformat": 4,
 "nbformat_minor": 2,
 "cells": [
  {
   "source": [
    "# Problema del robot que recoge basura\n",
    "#### Alberto Benavides\n",
    "\n",
    "---\n",
    "\n",
    "Hay un robot que puede moverse para recoger objetos del suelo y volver a su estación de carga para mantenerse en funcionamiento.\n",
    "\n",
    "- El robot tiene dos estados de carga $S = \\{\\texttt{alta}, \\texttt{baja}, \\texttt{nula}\\}$.\n",
    "- Las funciones que puede realizar son\n",
    "    1. `buscar` un objeto,\n",
    "    2. `esperar` a que alguien le traiga un objeto, y\n",
    "    3. `regresar` a recargarse.\n",
    "- Las acciones $A$ del robot son\n",
    "    - $A(\\texttt{alta}) = \\{ \\texttt{buscar}, \\texttt{esperar} \\}$, y\n",
    "    - $A(\\texttt{baja}) = \\{ \\texttt{buscar}, \\texttt{esperar}, \\texttt{regresar} \\}$.\n",
    "- Al `buscar` con carga `alta` \n",
    "    - $\\alpha$ es la probabilidad de mantenerse con carga `alta`, y\n",
    "    - $1 - \\alpha$, la de pasar a carga `baja`.\n",
    "- Al `buscar` con carga `baja` \n",
    "    - $\\beta$ es la probabilidad de mantenerse con carga `baja`, y\n",
    "    - $1 - \\beta$, la de pasar a carga `nula`.\n",
    "- Al `esperar` la carga se queda en el mismo estado.\n",
    "- Al `regresar` la carga pasa a ser `alta`.\n",
    "- En cuanto a las recompensas $r$\n",
    "    - $+1$ por recoger un objeto,\n",
    "    - $r_1$: valor esperado de objetos recogidos al `buscar`, \n",
    "    - $r_2$: valor esperado de objetos recogidos al `esperar`,\n",
    "    - $r_3 = -3$: quedarse con carga `nula`,\n",
    "    - $r_1 > r_2$\n",
    "    "
   ],
   "cell_type": "markdown",
   "metadata": {}
  },
  {
   "source": [
    "La función de valor de un estado $V_S$ depende de los valores esperados de las recompensas que el robot puede obtener a partir de un estado cualquiera. Se pueden calcular, por lo tanto, las funciones de valor para la acción `buscar` es\n",
    "$$V_{\\texttt{buscar}} = r_1 \\alpha + r_1 (1 - \\alpha) + r_1 \\beta + r_3 (1 - \\beta)$$\n",
    "$$V_{\\texttt{buscar}} = r_1 \\alpha + r_1 - r_1 \\alpha + r_1 \\beta -3 + 3\\beta$$\n",
    "$$V_{\\texttt{buscar}} = r_1 + r_1 \\beta + 3\\beta - 3.$$\n",
    "\n",
    "La función de valor para la acción `esperar` es\n",
    "$$V_{\\texttt{esperar}} = r_2.$$\n",
    "\n",
    "Por último, la función de valor para la acción `regresar` es\n",
    "$$V_{\\texttt{regresar}} = 0.$$"
   ],
   "cell_type": "markdown",
   "metadata": {}
  },
  {
   "source": [
    "# Problema del juego del Gato"
   ],
   "cell_type": "markdown",
   "metadata": {}
  }
 ]
}