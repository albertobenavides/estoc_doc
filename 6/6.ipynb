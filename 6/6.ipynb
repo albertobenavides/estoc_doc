{
 "cells": [
  {
   "cell_type": "markdown",
   "metadata": {},
   "source": [
    "# Problema del robot que recoge basura\n",
    "#### Alberto Benavides\n",
    "\n",
    "---\n",
    "\n",
    "Hay un robot que puede moverse para recoger objetos del suelo y volver a su estación de carga para mantenerse en funcionamiento.\n",
    "\n",
    "- El robot tiene dos estados de carga $S = \\{\\texttt{alta}, \\texttt{baja}, \\texttt{nula}\\}$.\n",
    "- Las funciones que puede realizar son\n",
    "    1. `buscar` un objeto,\n",
    "    2. `esperar` a que alguien le traiga un objeto, y\n",
    "    3. `regresar` a recargarse.\n",
    "- Las acciones $A$ del robot son\n",
    "    - $A(\\texttt{alta}) = \\{ \\texttt{buscar}, \\texttt{esperar} \\}$, y\n",
    "    - $A(\\texttt{baja}) = \\{ \\texttt{buscar}, \\texttt{esperar}, \\texttt{regresar} \\}$.\n",
    "- Al `buscar` con carga `alta` \n",
    "    - $\\alpha$ es la probabilidad de mantenerse con carga `alta`, y\n",
    "    - $1 - \\alpha$, la de pasar a carga `baja`.\n",
    "- Al `buscar` con carga `baja` \n",
    "    - $\\beta$ es la probabilidad de mantenerse con carga `baja`, y\n",
    "    - $1 - \\beta$, la de pasar a carga `nula`.\n",
    "- Al `esperar` la carga se queda en el mismo estado.\n",
    "- Al `regresar` la carga pasa a ser `alta`.\n",
    "- En cuanto a las recompensas $r$\n",
    "    - $+1$ por recoger un objeto,\n",
    "    - $r_1$: valor esperado de objetos recogidos al `buscar`, \n",
    "    - $r_2$: valor esperado de objetos recogidos al `esperar`,\n",
    "    - $r_3 = -3$: quedarse con carga `nula`,\n",
    "    - $r_1 > r_2$\n",
    "    "
   ]
  },
  {
   "cell_type": "markdown",
   "metadata": {},
   "source": [
    "La función de valor de un estado $V_S$ depende de los valores esperados de las recompensas que el robot puede obtener a partir de un estado cualquiera. Se pueden calcular, por lo tanto, las funciones de valor para la acción `buscar` es\n",
    "$$V_{\\texttt{buscar}} = r_1 \\alpha + r_1 (1 - \\alpha) + r_1 \\beta + r_3 (1 - \\beta)$$\n",
    "$$V_{\\texttt{buscar}} = r_1 \\alpha + r_1 - r_1 \\alpha + r_1 \\beta -3 + 3\\beta$$\n",
    "$$V_{\\texttt{buscar}} = r_1 + r_1 \\beta + 3\\beta - 3.$$\n",
    "\n",
    "La función de valor para la acción `esperar` es\n",
    "$$V_{\\texttt{esperar}} = r_2.$$\n",
    "\n",
    "Por último, la función de valor para la acción `regresar` es\n",
    "$$V_{\\texttt{regresar}} = 0.$$"
   ]
  },
  {
   "cell_type": "markdown",
   "metadata": {},
   "source": [
    "# Problema del juego del Gato\n",
    "\n",
    "El juego del Gato consiste en un tablero equivalente a una matriz de $3 \\times 3$ en donde cada casilla puede tener tres estados $S= \\{\\sqcup, \\texttt{X}, \\texttt{O}\\}$. Por comodidad, cada elemento será nombrado por su posición en la fila $i$ y columna $j$ como $e_{i + 2j}$, es decir, que la casilla central derecha equivalente a $i = 2, j = 1$ es el elemento $e_{2 + 2 \\cdot 1} = e_5$.\n",
    "\n",
    "La configuración inicial del tablero es\n",
    "$$\\begin{bmatrix} \\sqcup & \\sqcup & \\sqcup \\\\ \\sqcup & \\sqcup & \\sqcup \\\\ \\sqcup & \\sqcup & \\sqcup \\end{bmatrix}.$$\n",
    "\n",
    ". Empezando por el jugador inicial y por turnos, cada jugador coloca su símbolo en alguna posición con estado $\\sqcup$. El juego terminar cuando\n",
    "- un jugador gana al trazar una secuencia vertical, horizontal o diagonal de sus tres figuras consecutivas, o\n",
    "- ningún elemento tiene estado $\\sqcup$.\n",
    "\n",
    "Para la configuración\n",
    "$$\\begin{bmatrix} \\texttt{O} & \\texttt{X} & \\texttt{O} \\\\ \\texttt{X} & \\sqcup & \\sqcup \\\\ \\sqcup & \\texttt{O} & \\texttt{X} \\end{bmatrix},$$\n",
    "cuál es la función de valor asociada a cada estado si sigue el turno del jugador con el símbolo $\\texttt{X}$."
   ]
  },
  {
   "source": [
    "Con base en la cantidad de símbolos que cada estado tiene en su vecindad, siendo vecinas casillas adyacentes horizontales, verticales y diagonales, se definen las recompensas para la casilla $k$\n",
    "- $r_{1,k}$: doble de la suma de casillas adyaventes con mismo símbolo,\n",
    "- $r_{2,k}$: doble de la resta de casillas adyaventes con símbolo del otro jugador, y\n",
    "- $r_{3,k}$: suma de casillas adyaventes con estado $\\sqcup$.\n",
    "\n",
    "Partiendo de esto y tomando en cuenta que hay tres posibles jugadas válidas, lo que da una probabilidad de $1/3$ para cada una de ellas, la función de valor $V$ para la casilla $k$ es\n",
    "$$V_{e_k} = 1/3 r_1 - 1/3 r_2 + 1/3 r_3,$$\n",
    "de donde\n",
    "$$V_{e_4} = 1/3 (3) - 1/3 (3) + 1/3 (2) = 2/3,$$\n",
    "$$V_{e_5} = 1/3 (2) - 1/3 (2) + 1/3 (1) = 1/3,$$\n",
    "$$V_{e_6} = 1/3 (1) - 1/3 (1) + 1/3 (1) = 1/3.$$"
   ],
   "cell_type": "markdown",
   "metadata": {}
  }
 ],
 "metadata": {
  "kernelspec": {
   "display_name": "Python 3",
   "language": "python",
   "name": "python3"
  },
  "language_info": {
   "codemirror_mode": {
    "name": "ipython",
    "version": 3
   },
   "file_extension": ".py",
   "mimetype": "text/x-python",
   "name": "python",
   "nbconvert_exporter": "python",
   "pygments_lexer": "ipython3",
   "version": "3.8.2"
  }
 },
 "nbformat": 4,
 "nbformat_minor": 4
}