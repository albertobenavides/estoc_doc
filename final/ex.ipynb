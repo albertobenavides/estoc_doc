{
 "metadata": {
  "language_info": {
   "codemirror_mode": {
    "name": "ipython",
    "version": 3
   },
   "file_extension": ".py",
   "mimetype": "text/x-python",
   "name": "python",
   "nbconvert_exporter": "python",
   "pygments_lexer": "ipython3",
   "version": "3.8.2"
  },
  "orig_nbformat": 4,
  "kernelspec": {
   "name": "python3",
   "display_name": "Python 3.8.2 32-bit"
  },
  "interpreter": {
   "hash": "88d9d682369c4c2b7f978cc3aeb5771370d6cf449cc3896384a8f211d6901526"
  }
 },
 "nbformat": 4,
 "nbformat_minor": 2,
 "cells": [
  {
   "cell_type": "code",
   "execution_count": 1,
   "metadata": {},
   "outputs": [],
   "source": [
    "import pandas as pd\n",
    "from pandas import DataFrame\n",
    "from pandas import concat"
   ]
  },
  {
   "cell_type": "code",
   "execution_count": 2,
   "metadata": {},
   "outputs": [],
   "source": [
    "def series_to_supervised(data, n_in=1, n_out=1, dropnan=True):\n",
    "\tn_vars = 1 if type(data) is list else data.shape[1]\n",
    "\tdf = DataFrame(data)\n",
    "\tcols, names = list(), list()\n",
    "\t# input sequence (t-n, ... t-1)\n",
    "\tfor i in range(n_in, 0, -1):\n",
    "\t\tcols.append(df.shift(i))\n",
    "\t\tnames += [('var%d(t-%d)' % (j+1, i)) for j in range(n_vars)]\n",
    "\t# forecast sequence (t, t+1, ... t+n)\n",
    "\tfor i in range(0, n_out):\n",
    "\t\tcols.append(df.shift(-i))\n",
    "\t\tif i == 0:\n",
    "\t\t\tnames += [('var%d(t)' % (j+1)) for j in range(n_vars)]\n",
    "\t\telse:\n",
    "\t\t\tnames += [('var%d(t+%d)' % (j+1, i)) for j in range(n_vars)]\n",
    "\t# put it all together\n",
    "\tagg = concat(cols, axis=1)\n",
    "\tagg.columns = names\n",
    "\t# drop rows with NaN values\n",
    "\tif dropnan:\n",
    "\t\tagg.dropna(inplace=True)\n",
    "\treturn agg\n"
   ]
  },
  {
   "cell_type": "code",
   "execution_count": 4,
   "metadata": {},
   "outputs": [
    {
     "output_type": "stream",
     "name": "stdout",
     "text": [
      "     var1(t-1)    var1(t)\n1    52.877419  44.826667\n2    44.826667  16.477477\n3    16.477477  15.280576\n4    15.280576  11.951456\n5    11.951456  35.993333\n..         ...        ...\n723  76.279221  58.105960\n724  58.105960  74.960265\n725  74.960265  53.875817\n726  53.875817  18.517483\n727  18.517483  23.318182\n\n[727 rows x 2 columns]\n"
     ]
    }
   ],
   "source": [
    "df = pd.read_csv(\"2018_contaminantes_promedios_12h.csv\")\n",
    "df = df[['PM10']]\n",
    "data = series_to_supervised(df, 1)\n",
    "print(data)"
   ]
  },
  {
   "source": [
    "# Aprendizaje por refuerzo"
   ],
   "cell_type": "markdown",
   "metadata": {}
  },
  {
   "cell_type": "code",
   "execution_count": 8,
   "metadata": {},
   "outputs": [],
   "source": [
    "import numpy as np"
   ]
  },
  {
   "cell_type": "code",
   "execution_count": 83,
   "metadata": {},
   "outputs": [
    {
     "output_type": "stream",
     "name": "stdout",
     "text": [
      "True\n"
     ]
    }
   ],
   "source": [
    "t = data.sample(1)\n",
    "t = t.iloc[0,1] - t.iloc[0,0]\n",
    "print(np.sign(t) == np.random.choice([-1.0, 1.0], 1)[0])"
   ]
  },
  {
   "cell_type": "code",
   "execution_count": 119,
   "metadata": {},
   "outputs": [
    {
     "output_type": "execute_result",
     "data": {
      "text/plain": [
       "[0.4881866064710304, 0.4989567809239962]"
      ]
     },
     "metadata": {},
     "execution_count": 119
    }
   ],
   "source": [
    "# Acciones: bajar, subir\n",
    "k = 2\n",
    "\n",
    "# Our action values\n",
    "Q = [0 for _ in range(k)]\n",
    "\n",
    "# Número de veces que se toma una acción\n",
    "N = [0 for _ in range(k)]\n",
    "\n",
    "# Valor para suavizar greedy\n",
    "eps = 0.1\n",
    "\n",
    "def pull(a):\n",
    "    # Se toma una fila al azar, si se adivina si sube o baja a partir del valor anterior, se gana un punto\n",
    "    t = data.sample(1)\n",
    "    # Diferencia entre t y t-1\n",
    "    t = t.iloc[0,1] - t.iloc[0,0]\n",
    "\n",
    "    if a == 0:\n",
    "        a = -1\n",
    "    # if np.sign(t) == np.random.choice([-1.0, 1.0], 1)[0]:\n",
    "    if np.sign(t) == a:\n",
    "        return 1\n",
    "    else:\n",
    "        return 0\n",
    "\n",
    "for i in range(10000):\n",
    "    if np.random.rand() > eps:\n",
    "        # Take greedy action most of the time\n",
    "        a = np.argmax(Q)\n",
    "    else:\n",
    "        # Take random action with probability eps\n",
    "        a = np.random.randint(0, k)\n",
    "    \n",
    "    # Collect reward\n",
    "    reward = pull(a)\n",
    "    \n",
    "    # Incremental average\n",
    "    N[a] += 1\n",
    "    Q[a] += 1/N[a] * (reward - Q[a])\n",
    "Q"
   ]
  }
 ]
}